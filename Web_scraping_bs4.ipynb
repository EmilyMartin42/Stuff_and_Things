{
 "cells": [
  {
   "cell_type": "markdown",
   "id": "cognitive-muscle",
   "metadata": {},
   "source": [
    "# Web scraping\n",
    "## An introduction using Beautiful Soup\n",
    "\n",
    "This lesson will introduce you to the world of web scraping and show you how one library, Beautiful Soup, allows you to gather large amounts of data from all sorts of web pages. Basic HTML structure will also be introduced and you will learn how to navigate its tree structure. \n",
    " \n",
    "\n",
    "**Difficulty:** Intermediate\n",
    "\n",
    "**Completion Time:** 45 Minutes\n",
    "\n",
    "**Knowledge Required:** Python basics (variables, data types, functions, loops, list comprehensions), Pandas basics\n",
    "\n",
    "**Knowledge Recommended:** HTML/webpage structure basic knowledge\n",
    "\n",
    "**Learning Objectives:** After this lesson you will be able to:\n",
    "1. Understand and implement web scraping using BeautifulSoup.\n",
    "2. Identify and navigate HTML tree structure to isolate desired nodes.\n",
    "3. Build the first steps of a text analysis pipeline.\n",
    "4. Be aware of other resources and methods for web scraping.\n",
    "\n",
    "**Research Pipeline:** \n",
    "1. Choose your resources - website(s) and volume of desired content\n",
    "2. Use the skills in this lesson to obtain the data and turn it into a user-friendly dataframe \n",
    "3. Transform the data as best fits your project goals - once it is in a data frame, many things are possible!\n",
    "\n",
    "**Libraries Used:** \n",
    "- [Pandas](https://pandas.pydata.org) _For manipulating and organizing data_\n",
    "- [BeautifulSoup](https://www.crummy.com/software/BeautifulSoup/) _For web scraping_   \n",
    "- [Requests](https://pypi.org/project/requests/) _For accessing webpages_   \n",
    "- [Urllib](https://pypi.org/project/urllib3/) _As an HTTP client_"
   ]
  },
  {
   "cell_type": "markdown",
   "id": "institutional-lawrence",
   "metadata": {},
   "source": [
    "## Introduction\n",
    "\n",
    "**What is web scraping?**\n",
    "- Web scraping refers to the process of extracting content (data) from a webpage using some form of software (bot, web crawler). \n",
    "- Utilizes the structure of web pages (which are built using HTML or XHTML, a text-based mark-up language) to extract the data you want.\n",
    "\n",
    "**Why should I learn web scraping?**\n",
    "- While there are many pre-compiled datasets out there, many projects require specific data that is not readily available. Being able to gather the precise data you want for your project is a huge advantage.\n",
    "- Web scraping allows you to harvest very large amounts of data with ease.\n",
    "\n",
    "**How do I learn web scraping?**\n",
    "- There are many methods for web scraping, with some being more optimized for obtaining certain information. You can build your own, as we do in this lesson with Beautiful Soup, which allows you to obtain very specific data but must be modified for different sources. There is also pre-built software you can download, which can require little to no coding. This can be a browser extension or software run through the command line or a user interface. \n",
    "- In this lesson we will focus on one particular method, but it is by no means the only option out there. \n",
    "\n",
    "**Wait, is web scraping legal?**\n",
    "- Gathering all this data feels almost too good to be true, is it? \n",
    "- Short answer: web scraping is legal!\n",
    "- Longer answer: every site is different and has different copyright rules. Always check before scraping and especially before publishing or redistributing any scraped information. For instance, many news sites have rules against reproducing their work - so you can scrape and analyze all you want but you cannot publish or show whole articles for free. "
   ]
  },
  {
   "cell_type": "markdown",
   "id": "smoking-insulation",
   "metadata": {},
   "source": [
    "## HTML, a brief overview\n",
    "\n",
    "Before we get into web scraping we first need to understand what goes on behind the scenes of a webpage. Webpages are built from HTML or XHTML, which is a text based markup language. There is a hierarchy to HTML and once you understand how it works traversing it to find the information you need becomes simple.\n",
    "\n",
    "### The hierarchy\n",
    "\n",
    "The structure of HTML is often referred to as a tree because it is made up of one root element with any number of branching descendant nodes. For instance, a root `<html>` node must have two children, a `<head>` node and a `<body>` node; each of which contains its own children and their children. Therefore, the node directly below another in the tree structure is a child node while the entirety of its children and its childrens children are descendants of that node. Children can also have parents (the node above them) and siblings (those nodes on the same level as them). Thinking of it in these familial terms can make it more intuitive. Below is an image that illustrates this tree structure: "
   ]
  },
  {
   "attachments": {
    "tree_structure.PNG": {
     "image/png": "[encoded data removed]"
    }
   },
   "cell_type": "markdown",
   "id": "designing-budget",
   "metadata": {},
   "source": [
    "![tree_structure.PNG](attachment:tree_structure.PNG)"
   ]
  },
  {
   "cell_type": "markdown",
   "id": "defensive-banana",
   "metadata": {},
   "source": [
    "Simply put, elements are pairs of tags which tell the browser what information is stored between them and how to display it. For instance, `<p>` elements are used to contain paragraphs (textual data) and `<a>` elements contain links. There are many kinds of tags, but for our purposes most of the information we are looking for will be in `<p>`, `<a>` or `<span>` tags, which are typically children of `<div>` tags. You may notice that there are also words like `class` or `id` within these tags that have their own values. These may look confusing at first, but they are very helpful in helping to point to the exact node you want. \n",
    "\n",
    "### Finding the information you need\n",
    "\n",
    "But how do you go about finding the node you need? In order to do this you need to do a bit of digging and leg work. To view this underlying structure you can navigate to the webpage you wish to scrape and just `right click` and then choose 'Inspect' or 'Inspect Element'. This will pull up a side or bottom panel that provides an interactive view of the underlying HTML. There is often an overwelming number of tags so it can be helpful to highlight a word in the main text you wish to obtain and then hitting `right click` as this will take you directly to that location in the hierarchy. From here you can see the name of the element that contains the information you want along with its parent, which is the information you will need for scraping. "
   ]
  },
  {
   "cell_type": "code",
   "execution_count": 1,
   "id": "raised-height",
   "metadata": {},
   "outputs": [],
   "source": [
    "# Import libraries\n",
    "import pandas as pd\n",
    "from bs4 import BeautifulSoup\n",
    "import requests\n",
    "import urllib"
   ]
  },
  {
   "cell_type": "markdown",
   "id": "dying-stream",
   "metadata": {},
   "source": [
    "## Scraping: Getting Started\n",
    "\n",
    "In this lesson we are going to scrape the Pitt News website and gather the articles that are currently on the home page. You can visit their website [here](https://pittnews.com/). We are going to begin by navigating to the home page and collecting all the links to the articles that exist there. "
   ]
  },
  {
   "cell_type": "code",
   "execution_count": 2,
   "id": "accurate-freedom",
   "metadata": {},
   "outputs": [],
   "source": [
    "# Storing the URL in a variable\n",
    "baseUrl = 'https://pittnews.com/'\n",
    "\n",
    "# Initialize an empty list for the links\n",
    "hrefList = []\n",
    "\n",
    "# Call the base URL, turn it into soup then find all parents of link elements, \n",
    "##  drill down to the children and append each link to the list\n",
    "response = requests.get(baseUrl)\n",
    "soup = BeautifulSoup(response.text, 'html.parser')\n",
    "divs = soup.find_all('div', {'class':'sno-story-card-link'})\n",
    "for div in divs:\n",
    "    a = div.find('a')\n",
    "    hrefList.append(a.get('href'))"
   ]
  },
  {
   "cell_type": "code",
   "execution_count": 3,
   "id": "neural-salem",
   "metadata": {},
   "outputs": [
    {
     "name": "stdout",
     "output_type": "stream",
     "text": [
      "52\n",
      "https://pittnews.com/article/175690/news/a-special-time-pitt-alumni-reflect-on-homecoming-traditions-throughout-history/\n"
     ]
    }
   ],
   "source": [
    "# Check that it did what we think\n",
    "print(len(hrefList))\n",
    "print(hrefList[0])"
   ]
  },
  {
   "cell_type": "markdown",
   "id": "corrected-archive",
   "metadata": {},
   "source": [
    "### Scraping: Gathering Data\n",
    "\n",
    "This chunk of code is a little more dense, so here is a brief explanation. Three empty dictionaries are initialized, one for the title of each article, one for the date it was published and one for the text of the article. Then we loop through each link from the list created above and open and collect the html from each page. This is turned to soup and from there each element we need is found and turned to text; which is then added as the value to its respective dictionary with the link to the article as the key. Using the links as keys allows us to utilize a very useful function later on when we are building the data frame. "
   ]
  },
  {
   "cell_type": "code",
   "execution_count": 4,
   "id": "million-encounter",
   "metadata": {},
   "outputs": [],
   "source": [
    "# get text and other details from articles\n",
    "titleDict = {}\n",
    "dateDict = {}\n",
    "textDict = {}\n",
    "\n",
    "for href in hrefList:\n",
    "    response = requests.get(href)\n",
    "    soup = BeautifulSoup(response.text, 'html.parser')\n",
    "    try:\n",
    "        # Get the date/time for each article\n",
    "        date = soup.find('span', {'class':'time-wrapper'}).text\n",
    "        dateDict[href] = date\n",
    "        \n",
    "        # Get the text for each article\n",
    "        content = soup.find('span', {'class':'storycontent'})\n",
    "        paras = content.find_all('p')\n",
    "        text = [t.text for t in paras]\n",
    "        textDict[href] = text\n",
    "        \n",
    "        # Get the title of each article\n",
    "        title = soup.find('h1', {'class':'storyheadline'}).text\n",
    "        titleDict[href] = title\n",
    "    except:\n",
    "        print('There is an error with this link')  # So we know if there is an issue with a link\n",
    "        pass"
   ]
  },
  {
   "cell_type": "code",
   "execution_count": 5,
   "id": "reasonable-cricket",
   "metadata": {},
   "outputs": [
    {
     "name": "stdout",
     "output_type": "stream",
     "text": [
      "('https://pittnews.com/article/175690/news/a-special-time-pitt-alumni-reflect-on-homecoming-traditions-throughout-history/', '‘A special time’: Pitt alumni reflect on homecoming traditions throughout history')\n",
      "('https://pittnews.com/article/175690/news/a-special-time-pitt-alumni-reflect-on-homecoming-traditions-throughout-history/', ' 12:54 am')\n",
      "['htt', ['I’m pretty sure the 11 words that undoubtedly produce the most happiness are, “It’s time to get things started on The Muppet Show tonight.”\\xa0', 'The Muppets have made audiences chuckle, snort and cackle with their skits, songs and interactions for the past 50 years, and fans will continue to adore them for generations to come. ', 'The Muppets — Jim Henson’s brainchild — began their stardom in a television show created in 1976, eventually expanding into multiple movies, a modernized television show and even an experience in Disney World. For those who have been living under a rock, the Muppets are puppets maneuvered by humans off the screen, hence the name “Muppets.” Each has a distinct personality, and together they host a late-night television show that always features a special celebrity guest. Though mishaps always tend to occur on and off stage, the Muppets find humor in their misfortune and always prevail.\\xa0']]\n"
     ]
    }
   ],
   "source": [
    "# Checking our collected data\n",
    "# Turning it into a list first because dictionaries are not iterable\n",
    "\n",
    "titleList = list(titleDict.items())\n",
    "print(titleList[0])\n",
    "\n",
    "dateList = list(dateDict.items()) \n",
    "print(dateList[0])\n",
    "\n",
    "textList = list(textDict.items())\n",
    "print([t[:3] for t in textList[12]])"
   ]
  },
  {
   "cell_type": "markdown",
   "id": "certain-corner",
   "metadata": {},
   "source": [
    "### Scraping: Cleaning the Data\n",
    "\n",
    "Now that we have the data we want and have taken a quick look at it we are can there are a few things that need to be taken care of before the data is ready to be stored in a more final form. Firstly there are some strange special characters in the text (`\\xa0`) which we want to remove. You may also have noticed that the text data is a list of strings, not one cohesive string. These strings should be joined into one before we move forward. \n",
    "\n",
    "This data is fairly clean, however this part of the data scraping pipeline can vary depending on the state of your data and the goal of your analysis. "
   ]
  },
  {
   "cell_type": "code",
   "execution_count": 6,
   "id": "alpha-sweden",
   "metadata": {},
   "outputs": [],
   "source": [
    "# Getting rid of the special character\n",
    "for k,v in textDict.items():\n",
    "    vrep = [x.replace('\\xa0', '') for x in v]\n",
    "    textDict[k] = vrep\n",
    "\n",
    "# Joining the sentences \n",
    "textListCleaned = [' '.join(v) for k,v in textDict.items()]"
   ]
  },
  {
   "cell_type": "markdown",
   "id": "lesser-communications",
   "metadata": {},
   "source": [
    "### Scraping: Storing the Data\n",
    "\n",
    "Now that the data is cleaned it can go in a data frame for futher manipulation or storage - whatever your project requires! "
   ]
  },
  {
   "cell_type": "code",
   "execution_count": 7,
   "id": "integrated-london",
   "metadata": {},
   "outputs": [
    {
     "data": {
      "text/html": [
       "<div>\n",
       "<style scoped>\n",
       "    .dataframe tbody tr th:only-of-type {\n",
       "        vertical-align: middle;\n",
       "    }\n",
       "\n",
       "    .dataframe tbody tr th {\n",
       "        vertical-align: top;\n",
       "    }\n",
       "\n",
       "    .dataframe thead th {\n",
       "        text-align: right;\n",
       "    }\n",
       "</style>\n",
       "<table border=\"1\" class=\"dataframe\">\n",
       "  <thead>\n",
       "    <tr style=\"text-align: right;\">\n",
       "      <th></th>\n",
       "      <th>Href</th>\n",
       "      <th>Title</th>\n",
       "      <th>Date/Time</th>\n",
       "      <th>Text</th>\n",
       "    </tr>\n",
       "  </thead>\n",
       "  <tbody>\n",
       "    <tr>\n",
       "      <th>0</th>\n",
       "      <td>https://pittnews.com/article/175690/news/a-spe...</td>\n",
       "      <td>‘A special time’: Pitt alumni reflect on homec...</td>\n",
       "      <td>12:54 am</td>\n",
       "      <td>For Valerie Njie, Pitt’s homecoming celebratio...</td>\n",
       "    </tr>\n",
       "    <tr>\n",
       "      <th>1</th>\n",
       "      <td>https://pittnews.com/article/175699/sports/spo...</td>\n",
       "      <td>Take 5 | Pickett should start for Steelers mov...</td>\n",
       "      <td>9:46 am</td>\n",
       "      <td>In this week’s edition of Take 5, The Pitt New...</td>\n",
       "    </tr>\n",
       "    <tr>\n",
       "      <th>2</th>\n",
       "      <td>https://pittnews.com/article/175697/top-storie...</td>\n",
       "      <td>Behind talented additions, Pitt men’s basketba...</td>\n",
       "      <td>9:37 am</td>\n",
       "      <td>For the first time in seemingly forever for Pi...</td>\n",
       "    </tr>\n",
       "    <tr>\n",
       "      <th>3</th>\n",
       "      <td>https://pittnews.com/article/175694/news/sgb-p...</td>\n",
       "      <td>SGB promotes mental health awareness at weekly...</td>\n",
       "      <td>1:38 am</td>\n",
       "      <td>President Danielle Floyd opened Student Govern...</td>\n",
       "    </tr>\n",
       "    <tr>\n",
       "      <th>4</th>\n",
       "      <td>https://pittnews.com/article/175688/opinions/o...</td>\n",
       "      <td>Opinion | Even if football isn’t your thing, y...</td>\n",
       "      <td>12:42 am</td>\n",
       "      <td>I’m just gonna say it — I don’t like football....</td>\n",
       "    </tr>\n",
       "  </tbody>\n",
       "</table>\n",
       "</div>"
      ],
      "text/plain": [
       "                                                Href  \\\n",
       "0  https://pittnews.com/article/175690/news/a-spe...   \n",
       "1  https://pittnews.com/article/175699/sports/spo...   \n",
       "2  https://pittnews.com/article/175697/top-storie...   \n",
       "3  https://pittnews.com/article/175694/news/sgb-p...   \n",
       "4  https://pittnews.com/article/175688/opinions/o...   \n",
       "\n",
       "                                               Title  Date/Time  \\\n",
       "0  ‘A special time’: Pitt alumni reflect on homec...   12:54 am   \n",
       "1  Take 5 | Pickett should start for Steelers mov...    9:46 am   \n",
       "2  Behind talented additions, Pitt men’s basketba...    9:37 am   \n",
       "3  SGB promotes mental health awareness at weekly...    1:38 am   \n",
       "4  Opinion | Even if football isn’t your thing, y...   12:42 am   \n",
       "\n",
       "                                                Text  \n",
       "0  For Valerie Njie, Pitt’s homecoming celebratio...  \n",
       "1  In this week’s edition of Take 5, The Pitt New...  \n",
       "2  For the first time in seemingly forever for Pi...  \n",
       "3  President Danielle Floyd opened Student Govern...  \n",
       "4  I’m just gonna say it — I don’t like football....  "
      ]
     },
     "execution_count": 7,
     "metadata": {},
     "output_type": "execute_result"
    }
   ],
   "source": [
    "# Title dictionary to dataframe\n",
    "pittNewsDF = pd.DataFrame.from_dict(titleDict, orient='index')\n",
    "\n",
    "# Reset the index so it is not the hrefs\n",
    "pittNewsDF.reset_index(inplace=True)\n",
    "\n",
    "# Name the columns\n",
    "pittNewsDF.columns = ['Href', 'Title']\n",
    "\n",
    "# Add our other dictionaries to the data frame using zip()\n",
    "pittNewsDF['Date/Time'] = pittNewsDF['Href'].map(dateDict)\n",
    "pittNewsDF['Text'] = textListCleaned\n",
    "\n",
    "# Take a look\n",
    "pittNewsDF.head()"
   ]
  },
  {
   "cell_type": "code",
   "execution_count": 8,
   "id": "contained-march",
   "metadata": {},
   "outputs": [
    {
     "data": {
      "text/plain": [
       "'In this week’s edition of Take 5, The Pitt News sports desk takes a look at the NFL’s ineffective concussion protocol, Steelers and former Pitt quarterback Kenny Pickett’s NFL debut and more. Despite ugly start, Kenny Pickett is the guy // Jermaine Sykes, Staff Writer The Steelers finally benched quarterback Mitch Trubisky in favor of first-round draft pick Kenny Pickett in Sunday’s 24-20 loss against the Jets. Pickett showed flashes of brilliance for a team that desperately needs to recalibrate after an unusual 1-3 start. Head coach Mike Tomlin put Pickett into the game because the Steelers “needed a spark.” A spark might be a stretch, but Pickett’s arrival did invigorate the crowd, receiving loud ovations. The fans stayed loud until his first pass attempt, which former Pitt safety Jordan Whitehead intercepted. Pickett finished the game completing 10 of 13 passes for 120 yards. The Jets intercepted all three incompletions. Despite the turnovers, Pickett showed willingness to take shots down the field and sit in the pocket on third down. Pickett should remain the starter and Steelers fans should believe they found their guy. College football shouldn’t begin ranking teams until halfway through the season // Frankie Richetti, Senior Staff Writer College football needs to stop ranking teams before the season starts. The Panthers checked in at No. 17 in this year’s preseason poll, which was solely based on what they did last season. Fast forward a month or so, Pitt is sitting at 3-2 on the season with wins over West Virginia, Western Michigan and Rhode Island, and losses to Tennessee and Georgia Tech. After five weeks, the Panthers clearly aren’t one of the top 25 teams in the country. On the flip side, we have also seen teams who started the season unranked — like TCU, Kansas and UCLA, for example — jump into the rankings this week because they are better than the committee thought they were in the preseason. Preseason rankings are always vastly different from the rankings at the end of the season because the college football season is unpredictable. So why try to predict it? All it does is create predetermined notions of teams which bring down the quality of the rankings. College football shouldn’t begin ranking teams until around the halfway point in the season — then it’ll be much easier to get an idea of who the best teams in the country truly are. Pitt deserves a men’s volleyball team // Sara Meyer, Staff Writer Pitt has nine national titles in football, three ACC championships in women’s volleyball and countless other titles in any of the other 17 varsity sports. Yet people often forget that Pitt boasted a dominant men’s volleyball program decades ago. Even though the men’s volleyball team won the Eastern Collegiate Volleyball League tournament and were ranked No. 2 in the East, Pitt cut the varsity program in 1981. Schools on the west coast usually dominate collegiate men’s volleyball. But many schools in the east such as Penn State, Ball State and Ohio State are in the top 15 in the nation for NCAA men’s volleyball. Needless to say, finding athletes to recruit in the east is not the issue, nor is the revenue. Pitt has the potential for a strong men’s volleyball team if Pitt Athletics gives it the chance. Pittsburgh is becoming the unexpected epicenter of college soccer // Zack Gibney, Senior Staff Writer In a city that revolves around football, an outsider assumes soccer is nothing more than an afterthought. However, in one of America’s premier blue-collar towns, another kind of football is gaining traction. Both Pitt’s men’s and women’s soccer teams have reached unprecedented levels of success, and people are taking notice. Both teams have attracted thousands of fans to soccer games in a City where American football is nothing less than a religion. The crowd shots speak for themselves. The teams have lost just four of their combined 21 games so far this season, with three of those coming from the men — a perennial national contender. What makes 2022 so special is that the women’s team, a historically losing program, has entered the national conversation and shows no signs of slowing down. Despite playing in what many consider to be the most daunting conference in the country when it comes to women’s soccer, the Panthers are yet to drop an ACC match. Both sides are nationally ranked — tickets to see these teams play are some of the hottest in the City. The NFL needs to rethink its concussion protocol // David Scott, Staff Writer Concussions are an ongoing issue in the world of professional football. The Thursday night football game between the Dolphins and Bengals gave the world a front row seat, showing that the NFL isn’t doing enough to remedy the issue. The NFL boasts its strides in player safety, continuing to roll out new helmets and modifying unnecessary roughness penalties and other rules. One thing that the NFL didn’t improve enough in the quest for player safety is the concussion protocol. In week three, Dolphins quarterback Tua Tagovailoa took a shot from a Bills defender, causing his head to whip against the turf. The Dolphins quickly cleared their quarterback to come back and play the rest of the game. The next week Tagovailoa took another brutal shot. This hit rendered him unconscious, and he went into the fencing response, a blaring alarm of a brain injury. The NFL and the Dolphins’ response to Tagovailoa’s injuries show that the organization isn’t taking head injuries as seriously as it would like fans to think. Two concussions in two consecutive weeks not only jeopardizes a player’s career, but also their life. The concussion protocol process needs to have transparency, more extensive testing and further restrictions to bar players from returning to playing before they are completely healthy.'"
      ]
     },
     "execution_count": 8,
     "metadata": {},
     "output_type": "execute_result"
    }
   ],
   "source": [
    "pittNewsDF['Text'].loc[1]"
   ]
  },
  {
   "cell_type": "code",
   "execution_count": 9,
   "id": "incoming-pathology",
   "metadata": {},
   "outputs": [
    {
     "name": "stdout",
     "output_type": "stream",
     "text": [
      "<class 'pandas.core.frame.DataFrame'>\n",
      "RangeIndex: 38 entries, 0 to 37\n",
      "Data columns (total 4 columns):\n",
      " #   Column     Non-Null Count  Dtype \n",
      "---  ------     --------------  ----- \n",
      " 0   Href       38 non-null     object\n",
      " 1   Title      38 non-null     object\n",
      " 2   Date/Time  38 non-null     object\n",
      " 3   Text       38 non-null     object\n",
      "dtypes: object(4)\n",
      "memory usage: 1.3+ KB\n"
     ]
    }
   ],
   "source": [
    "# Taking a quick look at the data frame\n",
    "pittNewsDF.info()"
   ]
  },
  {
   "cell_type": "markdown",
   "id": "changing-joseph",
   "metadata": {},
   "source": [
    "## Caveats and Future Directions\n",
    "\n",
    "Congratulations! You now know the basics of web scraping and the mechanics of one scraping library. Armed with this knowledge, and perhaps a little documentation study, you are ready to tackle any website you wish and gather whatever data you need. However, before we get too carried away it is important to note that while Beautiful Soup is powerful there are some things it is not equipped to handle. \n",
    "\n",
    "**The Caveats**\n",
    "- Beautiful Soup cannot handle JavaScript.\n",
    "- It has to be tweaked for every new website, which does require some hands on work initially.\n",
    "- Depends on having a parser and a library to send requests.\n",
    "- Can be laggy and bad for huge quantities of data.\n",
    "- Doesn't have good proxy support, so your IP address could be flagged.\n",
    "\n",
    "**Some Other Options**\n",
    "\n",
    "Since Beautiful Soup cannot handle everything (and maybe it is just not your favorite web scraping method) here are some other options that you might want to look into:\n",
    "- [Selenium](https://www.selenium.dev): is a popular method that is able to handle JavaScript and AJAX requests and is very beginner friendly.\n",
    "- [Scrapy](https://scrapy.org): an open source framework that is excellent at handling proxies and building pipelines for very large quantities of data. \n",
    "\n",
    "**Some Useful Resources**\n",
    "\n",
    "- [Beautiful Soup Documentation](https://www.crummy.com/software/BeautifulSoup/bs4/doc/)\n",
    "- [A useful article about choosing a scraping method](https://medium.com/analytics-vidhya/scrapy-vs-selenium-vs-beautiful-soup-for-web-scraping-24008b6c87b8)\n",
    "- [HTML Basics](http://dh.obdurodon.org/html_basics.xhtml)"
   ]
  }
 ],
 "metadata": {
  "kernelspec": {
   "display_name": "Python 3",
   "language": "python",
   "name": "python3"
  },
  "language_info": {
   "codemirror_mode": {
    "name": "ipython",
    "version": 3
   },
   "file_extension": ".py",
   "mimetype": "text/x-python",
   "name": "python",
   "nbconvert_exporter": "python",
   "pygments_lexer": "ipython3",
   "version": "3.7.6"
  },
  "toc": {
   "base_numbering": 1,
   "nav_menu": {},
   "number_sections": true,
   "sideBar": true,
   "skip_h1_title": false,
   "title_cell": "Table of Contents",
   "title_sidebar": "Contents",
   "toc_cell": false,
   "toc_position": {},
   "toc_section_display": true,
   "toc_window_display": false
  }
 },
 "nbformat": 4,
 "nbformat_minor": 5
}
